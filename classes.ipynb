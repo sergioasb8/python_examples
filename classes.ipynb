{
 "cells": [
  {
   "attachments": {},
   "cell_type": "markdown",
   "metadata": {},
   "source": [
    "# 1 Info\n",
    "\n",
    "Notebook to understand the basics of the Classes in Python"
   ]
  },
  {
   "attachments": {},
   "cell_type": "markdown",
   "metadata": {},
   "source": [
    "# 2 classes in Python"
   ]
  },
  {
   "attachments": {},
   "cell_type": "markdown",
   "metadata": {},
   "source": [
    "## 2.1 Basic structure\n",
    "the most basic class is "
   ]
  },
  {
   "cell_type": "code",
   "execution_count": 1,
   "metadata": {},
   "outputs": [],
   "source": [
    "class BasicClass:\n",
    "    class_data = \" this is the class data \""
   ]
  },
  {
   "attachments": {},
   "cell_type": "markdown",
   "metadata": {},
   "source": [
    "the class name should be defined with capital letters."
   ]
  },
  {
   "attachments": {},
   "cell_type": "markdown",
   "metadata": {},
   "source": [
    "## 2.2 Method\n",
    "\n",
    "The methods are an action that the class will do"
   ]
  },
  {
   "cell_type": "code",
   "execution_count": 5,
   "metadata": {},
   "outputs": [],
   "source": [
    "class Math:\n",
    "\n",
    "    def give_coordinates(self):\n",
    "        self.x = 1\n",
    "        self.y = 2"
   ]
  },
  {
   "attachments": {},
   "cell_type": "markdown",
   "metadata": {},
   "source": [
    "## 2.3 Using a class"
   ]
  },
  {
   "cell_type": "code",
   "execution_count": 7,
   "metadata": {},
   "outputs": [],
   "source": [
    "# invoke the class\n",
    "m = Math()"
   ]
  },
  {
   "cell_type": "code",
   "execution_count": 8,
   "metadata": {},
   "outputs": [],
   "source": [
    "# access the method\n",
    "m.give_coordinates()"
   ]
  },
  {
   "cell_type": "code",
   "execution_count": 9,
   "metadata": {},
   "outputs": [
    {
     "data": {
      "text/plain": [
       "(1, 2)"
      ]
     },
     "execution_count": 9,
     "metadata": {},
     "output_type": "execute_result"
    }
   ],
   "source": [
    "# check that everything is working\n",
    "m.x, m.y"
   ]
  },
  {
   "attachments": {},
   "cell_type": "markdown",
   "metadata": {},
   "source": [
    "## 2.4 the **self** parameter\n",
    "\n",
    "\n",
    "The methods must always have at least one parameter, that parameter is **self**, that will be the first parameter always.\n",
    "\n",
    "the self argument serves to invoke th method. it is call \"self\" as standard because it can be call with any name.When we pass arguments to a method, **self** always must be the first one. Otherwise the method will be self invoked with whatever you put first.\n",
    "\n",
    "\n",
    "    - Lets compare using self and not using it"
   ]
  },
  {
   "cell_type": "code",
   "execution_count": 10,
   "metadata": {},
   "outputs": [],
   "source": [
    "class WithSelf():\n",
    "\n",
    "    def printing(self):\n",
    "        print(\"This contains self\")\n",
    "\n",
    "\n",
    "\n",
    "class WithoutSelf():\n",
    "\n",
    "    def printing():\n",
    "        print(\"this does not contains self\")"
   ]
  },
  {
   "cell_type": "code",
   "execution_count": 11,
   "metadata": {},
   "outputs": [],
   "source": [
    "# invoking the classes\n",
    "with_self = WithSelf()\n",
    "without_self = WithoutSelf()"
   ]
  },
  {
   "cell_type": "code",
   "execution_count": 12,
   "metadata": {},
   "outputs": [
    {
     "name": "stdout",
     "output_type": "stream",
     "text": [
      "This contains self\n"
     ]
    }
   ],
   "source": [
    "# Accessing the method\n",
    "with_self.printing()"
   ]
  },
  {
   "cell_type": "code",
   "execution_count": 13,
   "metadata": {},
   "outputs": [
    {
     "ename": "TypeError",
     "evalue": "printing() takes 0 positional arguments but 1 was given",
     "output_type": "error",
     "traceback": [
      "\u001b[0;31m---------------------------------------------------------------------------\u001b[0m",
      "\u001b[0;31mTypeError\u001b[0m                                 Traceback (most recent call last)",
      "\u001b[0;32m/var/folders/mp/f2dl1s8d49715klyjxpxjksm0000gn/T/ipykernel_34308/3107213639.py\u001b[0m in \u001b[0;36m<module>\u001b[0;34m\u001b[0m\n\u001b[1;32m      1\u001b[0m \u001b[0;31m# Accessing the method\u001b[0m\u001b[0;34m\u001b[0m\u001b[0;34m\u001b[0m\u001b[0m\n\u001b[0;32m----> 2\u001b[0;31m \u001b[0mwithout_self\u001b[0m\u001b[0;34m.\u001b[0m\u001b[0mprinting\u001b[0m\u001b[0;34m(\u001b[0m\u001b[0;34m)\u001b[0m\u001b[0;34m\u001b[0m\u001b[0;34m\u001b[0m\u001b[0m\n\u001b[0m",
      "\u001b[0;31mTypeError\u001b[0m: printing() takes 0 positional arguments but 1 was given"
     ]
    }
   ],
   "source": [
    "# Accessing the method\n",
    "without_self.printing()"
   ]
  },
  {
   "attachments": {},
   "cell_type": "markdown",
   "metadata": {},
   "source": [
    "As you can see, there is an error because no arguments were passed. The method can not be invoked because it has no arguments. **that's why we need the self**"
   ]
  },
  {
   "attachments": {},
   "cell_type": "markdown",
   "metadata": {},
   "source": [
    "## 2.4 Recieving multiple arguments\n",
    "\n",
    "To recieve multiple arguments we must use the ´__init__´ method. Let's see an example of what happens when we do not use it."
   ]
  },
  {
   "cell_type": "code",
   "execution_count": 23,
   "metadata": {},
   "outputs": [],
   "source": [
    "class Coordinates():\n",
    "\n",
    "    def move(self, x, y):\n",
    "        self.x = x\n",
    "        self.y = y\n",
    "\n",
    "    def position(self):\n",
    "        return self.x, self.y"
   ]
  },
  {
   "cell_type": "code",
   "execution_count": 26,
   "metadata": {},
   "outputs": [
    {
     "ename": "TypeError",
     "evalue": "Coordinates() takes no arguments",
     "output_type": "error",
     "traceback": [
      "\u001b[0;31m---------------------------------------------------------------------------\u001b[0m",
      "\u001b[0;31mTypeError\u001b[0m                                 Traceback (most recent call last)",
      "\u001b[0;32m/var/folders/mp/f2dl1s8d49715klyjxpxjksm0000gn/T/ipykernel_34308/2285478525.py\u001b[0m in \u001b[0;36m<module>\u001b[0;34m\u001b[0m\n\u001b[1;32m      1\u001b[0m \u001b[0;31m# invoke the class\u001b[0m\u001b[0;34m\u001b[0m\u001b[0;34m\u001b[0m\u001b[0m\n\u001b[0;32m----> 2\u001b[0;31m \u001b[0mp\u001b[0m \u001b[0;34m=\u001b[0m \u001b[0mCoordinates\u001b[0m\u001b[0;34m(\u001b[0m\u001b[0;36m4\u001b[0m\u001b[0;34m,\u001b[0m\u001b[0;36m5\u001b[0m\u001b[0;34m)\u001b[0m\u001b[0;34m\u001b[0m\u001b[0;34m\u001b[0m\u001b[0m\n\u001b[0m",
      "\u001b[0;31mTypeError\u001b[0m: Coordinates() takes no arguments"
     ]
    }
   ],
   "source": [
    "# invoke the class \n",
    "p = Coordinates(4,5)"
   ]
  },
  {
   "attachments": {},
   "cell_type": "markdown",
   "metadata": {},
   "source": [
    "The first method is creating the error, __the first method does only one thing, it invokes the needed values__.\n",
    "\n",
    "That's why the first method should always be called ´__init__´ because we want to __properly invoke the needed values__. So the correct way to write the class is:"
   ]
  },
  {
   "cell_type": "code",
   "execution_count": 27,
   "metadata": {},
   "outputs": [],
   "source": [
    "class Coordinates2:\n",
    "\n",
    "    def __init__(self,x,y) -> None:\n",
    "        self.x = x\n",
    "        self.y = y\n",
    "    \n",
    "    def position(self):\n",
    "        return self.x, self.y"
   ]
  },
  {
   "cell_type": "code",
   "execution_count": 28,
   "metadata": {},
   "outputs": [],
   "source": [
    "p = Coordinates2(4,5)"
   ]
  },
  {
   "cell_type": "code",
   "execution_count": 29,
   "metadata": {},
   "outputs": [
    {
     "data": {
      "text/plain": [
       "(4, 5)"
      ]
     },
     "execution_count": 29,
     "metadata": {},
     "output_type": "execute_result"
    }
   ],
   "source": [
    "p.position()"
   ]
  },
  {
   "attachments": {},
   "cell_type": "markdown",
   "metadata": {},
   "source": [
    "## 2.5 if _ _ name _ _ == \"_ _ main _ _\"\n",
    "\n",
    "This portion of code is used when to prevent an error when a module is imported into another Python file. Without _ _ name _ _ == \"_ _ main _ _\" when the module is imported it will be executed immediately. This is not useful because we only need to use the code that we import when we actually call it, not as soon is imported.\n",
    "\n",
    "we can type it at the end of the .py file"
   ]
  },
  {
   "attachments": {},
   "cell_type": "markdown",
   "metadata": {},
   "source": [
    "## 2.6 type hints\n",
    "\n",
    "Hitting a type means suggesting the type to pass to a function/method.\n",
    "\n",
    "Example: \n",
    "we want a function that gets a lsit as an argument and returns the count of how many elements are in the list."
   ]
  },
  {
   "cell_type": "code",
   "execution_count": 32,
   "metadata": {},
   "outputs": [
    {
     "data": {
      "text/plain": [
       "(5, 3)"
      ]
     },
     "execution_count": 32,
     "metadata": {},
     "output_type": "execute_result"
    }
   ],
   "source": [
    "def count_values(list_elements: list[any]) -> int:\n",
    "    return len(list_elements)\n",
    "\n",
    "count_values([3,2,5,6,7]), count_values([\"uno\",\"numero\",\"lista\"])"
   ]
  },
  {
   "attachments": {},
   "cell_type": "markdown",
   "metadata": {},
   "source": [
    "lets remember that this is a hint, the function will accept any argument even if is not the one that we specified."
   ]
  },
  {
   "cell_type": "code",
   "execution_count": 34,
   "metadata": {},
   "outputs": [
    {
     "data": {
      "text/plain": [
       "(5, 3)"
      ]
     },
     "execution_count": 34,
     "metadata": {},
     "output_type": "execute_result"
    }
   ],
   "source": [
    "def count_values(list_elements: str) -> int:\n",
    "    return len(list_elements)\n",
    "\n",
    "count_values([3,2,5,6,7]), count_values([\"uno\",\"numero\",\"lista\"])"
   ]
  },
  {
   "attachments": {},
   "cell_type": "markdown",
   "metadata": {},
   "source": [
    "## 2.7 docstrings\n",
    "\n",
    "A docstring is a string literal that __occurs as the first statement in a module, function, class, or method definition. It becomes the \" _ _ doc _ _ \" special attribute for that object.\n",
    "\n",
    "we forget what we did all the time and write a lot of code all the time, to not forget what we did there is a solution __documentation__. Also, if somebody else is going to be using or reading your code, there should be a way for them to get a closer understanding of what you wrote.\n",
    "\n",
    "All modules, classes and functions should have a docstring. public methods like the _ _ init _ _  should also have a docstring. __a package should have a docstring inside the module docstring of the _ _ init _ _ .py file in the package directory."
   ]
  },
  {
   "cell_type": "code",
   "execution_count": 40,
   "metadata": {},
   "outputs": [],
   "source": [
    "# proper way to document the code with docstrings\n",
    "class Point:\n",
    "    \"\"\" this class moves a point in 2D, passing its coordinates\n",
    "    as argument of the function 'position'\n",
    "\n",
    "    Args:\n",
    "        param 1 (int): the coordinate x of the point in 2D\n",
    "        param 2 (int): the coordinate y of the point in 2D\n",
    "    \"\"\"\n",
    "    def _init_(self, x: int, y: int) -> None: \n",
    "        \"\"\"\n",
    "        constructor method.\n",
    "        \"\"\"\n",
    "        self.x = x\n",
    "        self.y = y\n",
    "\n",
    "    def position(self) -> int: \n",
    "        \"\"\" This method actually moves the point.\n",
    "        \n",
    "        Returns:\n",
    "            int: prints the integers that represent the coordinates x and y\n",
    "            of the point in 2D\n",
    "        \"\"\"\n",
    "        print(self.x, self.y)"
   ]
  },
  {
   "attachments": {},
   "cell_type": "markdown",
   "metadata": {},
   "source": [
    "### 2.7.1 Access the docstring\n"
   ]
  },
  {
   "cell_type": "code",
   "execution_count": 38,
   "metadata": {},
   "outputs": [
    {
     "data": {
      "text/plain": [
       "\" this class moves a point in 2D, passing its coordinates\\n    as argument of the function 'position'\\n\\n    Args:\\n        param 1 (int): the coordinate x of the point in 2D\\n        param 2 (int): the coordinate y of the point in 2D\\n    \""
      ]
     },
     "execution_count": 38,
     "metadata": {},
     "output_type": "execute_result"
    }
   ],
   "source": [
    "Point.__doc__"
   ]
  },
  {
   "cell_type": "code",
   "execution_count": 39,
   "metadata": {},
   "outputs": [
    {
     "data": {
      "text/plain": [
       "' This method actually moves the point.\\n        \\n        Returns:\\n            int: prints the integers that represent the coordinates x and y\\n            of the point in 2D\\n        '"
      ]
     },
     "execution_count": 39,
     "metadata": {},
     "output_type": "execute_result"
    }
   ],
   "source": [
    "Point.position.__doc__"
   ]
  },
  {
   "cell_type": "code",
   "execution_count": null,
   "metadata": {},
   "outputs": [],
   "source": []
  }
 ],
 "metadata": {
  "kernelspec": {
   "display_name": "base",
   "language": "python",
   "name": "python3"
  },
  "language_info": {
   "codemirror_mode": {
    "name": "ipython",
    "version": 3
   },
   "file_extension": ".py",
   "mimetype": "text/x-python",
   "name": "python",
   "nbconvert_exporter": "python",
   "pygments_lexer": "ipython3",
   "version": "3.9.13"
  },
  "orig_nbformat": 4
 },
 "nbformat": 4,
 "nbformat_minor": 2
}
