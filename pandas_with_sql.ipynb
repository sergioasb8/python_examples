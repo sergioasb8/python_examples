{
 "cells": [
  {
   "attachments": {},
   "cell_type": "markdown",
   "metadata": {},
   "source": [
    "# 1 Info \n",
    "\n",
    "In this notebook is explained how to query pandas data frames using SQL Syntax. "
   ]
  },
  {
   "attachments": {},
   "cell_type": "markdown",
   "metadata": {},
   "source": [
    "# 2 Examples"
   ]
  },
  {
   "attachments": {},
   "cell_type": "markdown",
   "metadata": {},
   "source": [
    "## 2.1 Install and import the library \"pandasql\""
   ]
  },
  {
   "cell_type": "code",
   "execution_count": null,
   "metadata": {},
   "outputs": [],
   "source": [
    "# install the package\n",
    "# !pip install pandasql"
   ]
  },
  {
   "cell_type": "code",
   "execution_count": 1,
   "metadata": {},
   "outputs": [],
   "source": [
    "from pandasql import sqldf"
   ]
  },
  {
   "attachments": {},
   "cell_type": "markdown",
   "metadata": {},
   "source": [
    "import the other libraries"
   ]
  },
  {
   "cell_type": "code",
   "execution_count": 2,
   "metadata": {},
   "outputs": [],
   "source": [
    "import pandas as pd\n",
    "import numpy as np"
   ]
  },
  {
   "attachments": {},
   "cell_type": "markdown",
   "metadata": {},
   "source": [
    "## 2.2 Generate sample data"
   ]
  },
  {
   "cell_type": "code",
   "execution_count": 3,
   "metadata": {},
   "outputs": [],
   "source": [
    "np.random.seed(10)"
   ]
  },
  {
   "cell_type": "code",
   "execution_count": 4,
   "metadata": {},
   "outputs": [],
   "source": [
    "my_df = pd.DataFrame({'gender':np.random.choice(a=['m','f', 'u'], size=20, p=[0.6,0.3, 0.1]),\n",
    "                   'age':np.random.poisson(lam=25, size=20),\n",
    "                   'score_a':np.random.randint(100, size=20),\n",
    "                   'score_b':np.random.randint(100, size=20),\n",
    "                   'score_c':np.random.randint(100, size=20)})\n",
    " \n",
    " \n",
    "gender = pd.DataFrame({'gender':['m','f', 'u'], 'full':['male','female', 'unknown']})"
   ]
  },
  {
   "cell_type": "code",
   "execution_count": 6,
   "metadata": {},
   "outputs": [
    {
     "data": {
      "text/html": [
       "<div>\n",
       "<style scoped>\n",
       "    .dataframe tbody tr th:only-of-type {\n",
       "        vertical-align: middle;\n",
       "    }\n",
       "\n",
       "    .dataframe tbody tr th {\n",
       "        vertical-align: top;\n",
       "    }\n",
       "\n",
       "    .dataframe thead th {\n",
       "        text-align: right;\n",
       "    }\n",
       "</style>\n",
       "<table border=\"1\" class=\"dataframe\">\n",
       "  <thead>\n",
       "    <tr style=\"text-align: right;\">\n",
       "      <th></th>\n",
       "      <th>gender</th>\n",
       "      <th>full</th>\n",
       "    </tr>\n",
       "  </thead>\n",
       "  <tbody>\n",
       "    <tr>\n",
       "      <th>0</th>\n",
       "      <td>m</td>\n",
       "      <td>male</td>\n",
       "    </tr>\n",
       "    <tr>\n",
       "      <th>1</th>\n",
       "      <td>f</td>\n",
       "      <td>female</td>\n",
       "    </tr>\n",
       "    <tr>\n",
       "      <th>2</th>\n",
       "      <td>u</td>\n",
       "      <td>unknown</td>\n",
       "    </tr>\n",
       "  </tbody>\n",
       "</table>\n",
       "</div>"
      ],
      "text/plain": [
       "  gender     full\n",
       "0      m     male\n",
       "1      f   female\n",
       "2      u  unknown"
      ]
     },
     "execution_count": 6,
     "metadata": {},
     "output_type": "execute_result"
    }
   ],
   "source": [
    "gender"
   ]
  },
  {
   "attachments": {},
   "cell_type": "markdown",
   "metadata": {},
   "source": [
    "## 2.3 Main function - sqldf.sqldf \n",
    "\n",
    "The main function used in pandas sqldf.sqldf accepts two parameters:\n",
    "* An SQL query string\n",
    "* A set of session/enviroment variables (locals() or globlas())\n",
    "\n",
    "the following command cna be type in order to avoid specifying it every time you wan to run a query"
   ]
  },
  {
   "cell_type": "code",
   "execution_count": 8,
   "metadata": {},
   "outputs": [],
   "source": [
    "pysqldf = lambda q: sqldf(q, globals())"
   ]
  },
  {
   "attachments": {},
   "cell_type": "markdown",
   "metadata": {},
   "source": [
    "## 2.4  Select query to get an average score\n",
    "\n",
    "the name of the table will be the name of how you save the dataFrame, and the name of the columns will be how you call them inside the query."
   ]
  },
  {
   "cell_type": "code",
   "execution_count": 9,
   "metadata": {},
   "outputs": [
    {
     "data": {
      "text/html": [
       "<div>\n",
       "<style scoped>\n",
       "    .dataframe tbody tr th:only-of-type {\n",
       "        vertical-align: middle;\n",
       "    }\n",
       "\n",
       "    .dataframe tbody tr th {\n",
       "        vertical-align: top;\n",
       "    }\n",
       "\n",
       "    .dataframe thead th {\n",
       "        text-align: right;\n",
       "    }\n",
       "</style>\n",
       "<table border=\"1\" class=\"dataframe\">\n",
       "  <thead>\n",
       "    <tr style=\"text-align: right;\">\n",
       "      <th></th>\n",
       "      <th>gender</th>\n",
       "      <th>obs</th>\n",
       "      <th>avg_age</th>\n",
       "      <th>avg_score_a</th>\n",
       "      <th>avg_score_b</th>\n",
       "      <th>avg_score_c</th>\n",
       "    </tr>\n",
       "  </thead>\n",
       "  <tbody>\n",
       "    <tr>\n",
       "      <th>0</th>\n",
       "      <td>f</td>\n",
       "      <td>9</td>\n",
       "      <td>23.888889</td>\n",
       "      <td>46.666667</td>\n",
       "      <td>66.555556</td>\n",
       "      <td>68.888889</td>\n",
       "    </tr>\n",
       "    <tr>\n",
       "      <th>1</th>\n",
       "      <td>m</td>\n",
       "      <td>9</td>\n",
       "      <td>25.666667</td>\n",
       "      <td>25.333333</td>\n",
       "      <td>35.777778</td>\n",
       "      <td>58.222222</td>\n",
       "    </tr>\n",
       "    <tr>\n",
       "      <th>2</th>\n",
       "      <td>u</td>\n",
       "      <td>2</td>\n",
       "      <td>24.500000</td>\n",
       "      <td>55.500000</td>\n",
       "      <td>79.500000</td>\n",
       "      <td>38.000000</td>\n",
       "    </tr>\n",
       "  </tbody>\n",
       "</table>\n",
       "</div>"
      ],
      "text/plain": [
       "  gender  obs    avg_age  avg_score_a  avg_score_b  avg_score_c\n",
       "0      f    9  23.888889    46.666667    66.555556    68.888889\n",
       "1      m    9  25.666667    25.333333    35.777778    58.222222\n",
       "2      u    2  24.500000    55.500000    79.500000    38.000000"
      ]
     },
     "execution_count": 9,
     "metadata": {},
     "output_type": "execute_result"
    }
   ],
   "source": [
    "pysqldf(\"\"\"\n",
    "    select \n",
    "        Gender, count(*) as obs, avg(age) as avg_age, avg(score_a) as avg_score_a,\n",
    "        avg(score_b) as avg_score_b, avg(score_c) as avg_score_c\n",
    "    from \n",
    "        my_df\n",
    "    group by \n",
    "        gender\n",
    "\"\"\")"
   ]
  },
  {
   "attachments": {},
   "cell_type": "markdown",
   "metadata": {},
   "source": [
    "## 2.5 Join the two tables"
   ]
  },
  {
   "cell_type": "code",
   "execution_count": 13,
   "metadata": {},
   "outputs": [
    {
     "data": {
      "text/html": [
       "<div>\n",
       "<style scoped>\n",
       "    .dataframe tbody tr th:only-of-type {\n",
       "        vertical-align: middle;\n",
       "    }\n",
       "\n",
       "    .dataframe tbody tr th {\n",
       "        vertical-align: top;\n",
       "    }\n",
       "\n",
       "    .dataframe thead th {\n",
       "        text-align: right;\n",
       "    }\n",
       "</style>\n",
       "<table border=\"1\" class=\"dataframe\">\n",
       "  <thead>\n",
       "    <tr style=\"text-align: right;\">\n",
       "      <th></th>\n",
       "      <th>gender</th>\n",
       "      <th>full</th>\n",
       "      <th>Gender</th>\n",
       "      <th>obs</th>\n",
       "      <th>avg_age</th>\n",
       "      <th>avg_score_a</th>\n",
       "      <th>avg_score_b</th>\n",
       "      <th>avg_score_c</th>\n",
       "    </tr>\n",
       "  </thead>\n",
       "  <tbody>\n",
       "    <tr>\n",
       "      <th>0</th>\n",
       "      <td>m</td>\n",
       "      <td>male</td>\n",
       "      <td>m</td>\n",
       "      <td>9</td>\n",
       "      <td>25.666667</td>\n",
       "      <td>25.333333</td>\n",
       "      <td>35.777778</td>\n",
       "      <td>58.222222</td>\n",
       "    </tr>\n",
       "    <tr>\n",
       "      <th>1</th>\n",
       "      <td>f</td>\n",
       "      <td>female</td>\n",
       "      <td>f</td>\n",
       "      <td>9</td>\n",
       "      <td>23.888889</td>\n",
       "      <td>46.666667</td>\n",
       "      <td>66.555556</td>\n",
       "      <td>68.888889</td>\n",
       "    </tr>\n",
       "    <tr>\n",
       "      <th>2</th>\n",
       "      <td>u</td>\n",
       "      <td>unknown</td>\n",
       "      <td>u</td>\n",
       "      <td>2</td>\n",
       "      <td>24.500000</td>\n",
       "      <td>55.500000</td>\n",
       "      <td>79.500000</td>\n",
       "      <td>38.000000</td>\n",
       "    </tr>\n",
       "  </tbody>\n",
       "</table>\n",
       "</div>"
      ],
      "text/plain": [
       "  gender     full Gender  obs    avg_age  avg_score_a  avg_score_b  \\\n",
       "0      m     male      m    9  25.666667    25.333333    35.777778   \n",
       "1      f   female      f    9  23.888889    46.666667    66.555556   \n",
       "2      u  unknown      u    2  24.500000    55.500000    79.500000   \n",
       "\n",
       "   avg_score_c  \n",
       "0    58.222222  \n",
       "1    68.888889  \n",
       "2    38.000000  "
      ]
     },
     "execution_count": 13,
     "metadata": {},
     "output_type": "execute_result"
    }
   ],
   "source": [
    "pysqldf(\"\"\"\n",
    "    select \n",
    "        * \n",
    "    from \n",
    "        gender\n",
    "    inner join \n",
    "        (\n",
    "            select \n",
    "                Gender, count(*) as obs, avg(age) as avg_age, avg(score_a) as avg_score_a,\n",
    "                avg(score_b) as avg_score_b, avg(score_c) as avg_score_c\n",
    "            from \n",
    "                my_df\n",
    "            group by \n",
    "                gender\n",
    "        ) b\n",
    "    on \n",
    "        gender.gender = b.gender\n",
    "\"\"\")"
   ]
  },
  {
   "attachments": {},
   "cell_type": "markdown",
   "metadata": {},
   "source": [
    "## 2.6 you can save the query result into a variable as a dataFrame"
   ]
  },
  {
   "cell_type": "code",
   "execution_count": 15,
   "metadata": {},
   "outputs": [],
   "source": [
    "data = pysqldf(\"\"\"\n",
    "    select \n",
    "        * \n",
    "    from \n",
    "        gender\n",
    "    inner join \n",
    "        (\n",
    "            select \n",
    "                Gender, count(*) as obs, avg(age) as avg_age, avg(score_a) as avg_score_a,\n",
    "                avg(score_b) as avg_score_b, avg(score_c) as avg_score_c\n",
    "            from \n",
    "                my_df\n",
    "            group by \n",
    "                gender\n",
    "        ) b\n",
    "    on \n",
    "        gender.gender = b.gender\n",
    "\"\"\")"
   ]
  },
  {
   "cell_type": "code",
   "execution_count": 16,
   "metadata": {},
   "outputs": [
    {
     "data": {
      "text/html": [
       "<div>\n",
       "<style scoped>\n",
       "    .dataframe tbody tr th:only-of-type {\n",
       "        vertical-align: middle;\n",
       "    }\n",
       "\n",
       "    .dataframe tbody tr th {\n",
       "        vertical-align: top;\n",
       "    }\n",
       "\n",
       "    .dataframe thead th {\n",
       "        text-align: right;\n",
       "    }\n",
       "</style>\n",
       "<table border=\"1\" class=\"dataframe\">\n",
       "  <thead>\n",
       "    <tr style=\"text-align: right;\">\n",
       "      <th></th>\n",
       "      <th>gender</th>\n",
       "      <th>full</th>\n",
       "      <th>Gender</th>\n",
       "      <th>obs</th>\n",
       "      <th>avg_age</th>\n",
       "      <th>avg_score_a</th>\n",
       "      <th>avg_score_b</th>\n",
       "      <th>avg_score_c</th>\n",
       "    </tr>\n",
       "  </thead>\n",
       "  <tbody>\n",
       "    <tr>\n",
       "      <th>0</th>\n",
       "      <td>m</td>\n",
       "      <td>male</td>\n",
       "      <td>m</td>\n",
       "      <td>9</td>\n",
       "      <td>25.666667</td>\n",
       "      <td>25.333333</td>\n",
       "      <td>35.777778</td>\n",
       "      <td>58.222222</td>\n",
       "    </tr>\n",
       "    <tr>\n",
       "      <th>1</th>\n",
       "      <td>f</td>\n",
       "      <td>female</td>\n",
       "      <td>f</td>\n",
       "      <td>9</td>\n",
       "      <td>23.888889</td>\n",
       "      <td>46.666667</td>\n",
       "      <td>66.555556</td>\n",
       "      <td>68.888889</td>\n",
       "    </tr>\n",
       "    <tr>\n",
       "      <th>2</th>\n",
       "      <td>u</td>\n",
       "      <td>unknown</td>\n",
       "      <td>u</td>\n",
       "      <td>2</td>\n",
       "      <td>24.500000</td>\n",
       "      <td>55.500000</td>\n",
       "      <td>79.500000</td>\n",
       "      <td>38.000000</td>\n",
       "    </tr>\n",
       "  </tbody>\n",
       "</table>\n",
       "</div>"
      ],
      "text/plain": [
       "  gender     full Gender  obs    avg_age  avg_score_a  avg_score_b  \\\n",
       "0      m     male      m    9  25.666667    25.333333    35.777778   \n",
       "1      f   female      f    9  23.888889    46.666667    66.555556   \n",
       "2      u  unknown      u    2  24.500000    55.500000    79.500000   \n",
       "\n",
       "   avg_score_c  \n",
       "0    58.222222  \n",
       "1    68.888889  \n",
       "2    38.000000  "
      ]
     },
     "execution_count": 16,
     "metadata": {},
     "output_type": "execute_result"
    }
   ],
   "source": [
    "data"
   ]
  },
  {
   "cell_type": "code",
   "execution_count": null,
   "metadata": {},
   "outputs": [],
   "source": []
  }
 ],
 "metadata": {
  "kernelspec": {
   "display_name": "base",
   "language": "python",
   "name": "python3"
  },
  "language_info": {
   "codemirror_mode": {
    "name": "ipython",
    "version": 3
   },
   "file_extension": ".py",
   "mimetype": "text/x-python",
   "name": "python",
   "nbconvert_exporter": "python",
   "pygments_lexer": "ipython3",
   "version": "3.9.13"
  },
  "orig_nbformat": 4
 },
 "nbformat": 4,
 "nbformat_minor": 2
}
